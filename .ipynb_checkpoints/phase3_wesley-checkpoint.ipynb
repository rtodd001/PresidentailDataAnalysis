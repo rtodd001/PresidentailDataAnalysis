{
 "cells": [
  {
   "cell_type": "markdown",
   "metadata": {},
   "source": [
    "# Phase 3 Covid-19 Primary Election Response\n",
    "## Did Covid-19(Coronavirus) affect the support of the top two democratic primary candidates?\n",
    "\n",
    "Coronavirus made its first appearance in the world in late November, early December 2019. It made its way to the U.S. towards the beginning of January 2020."
   ]
  },
  {
   "cell_type": "code",
   "execution_count": 1,
   "metadata": {},
   "outputs": [
    {
     "name": "stderr",
     "output_type": "stream",
     "text": [
      "/usr/local/lib/python3.6/site-packages/IPython/core/interactiveshell.py:3051: DtypeWarning: Columns (19,21) have mixed types. Specify dtype option on import or set low_memory=False.\n",
      "  interactivity=interactivity, compiler=compiler, result=result)\n"
     ]
    }
   ],
   "source": [
    "import pandas as pd\n",
    "import numpy as np\n",
    "from sklearn.model_selection import train_test_split\n",
    "from sklearn.model_selection import cross_val_score\n",
    "from sklearn.metrics import mean_squared_error\n",
    "from sklearn.preprocessing import StandardScaler\n",
    "from sklearn.linear_model import SGDRegressor\n",
    "from sklearn.pipeline import make_pipeline\n",
    "from sklearn.feature_extraction.text import TfidfTransformer\n",
    "from sklearn.feature_extraction.text import CountVectorizer\n",
    "from sklearn.naive_bayes import MultinomialNB\n",
    "from sklearn.linear_model import LinearRegression\n",
    "primary_df = pd.read_csv(\"president_primary_polls.csv\")\n"
   ]
  },
  {
   "cell_type": "markdown",
   "metadata": {},
   "source": [
    "# California Survey\n",
    "\n",
    "Did the coronavirus's appearance in the U.S. change the support for the two front runners of the democratic primary in California?"
   ]
  },
  {
   "cell_type": "code",
   "execution_count": 2,
   "metadata": {},
   "outputs": [
    {
     "data": {
      "text/html": [
       "<div>\n",
       "<style scoped>\n",
       "    .dataframe tbody tr th:only-of-type {\n",
       "        vertical-align: middle;\n",
       "    }\n",
       "\n",
       "    .dataframe tbody tr th {\n",
       "        vertical-align: top;\n",
       "    }\n",
       "\n",
       "    .dataframe thead th {\n",
       "        text-align: right;\n",
       "    }\n",
       "</style>\n",
       "<table border=\"1\" class=\"dataframe\">\n",
       "  <thead>\n",
       "    <tr style=\"text-align: right;\">\n",
       "      <th></th>\n",
       "      <th>question_id</th>\n",
       "      <th>poll_id</th>\n",
       "      <th>cycle</th>\n",
       "      <th>state</th>\n",
       "      <th>pollster_id</th>\n",
       "      <th>pollster</th>\n",
       "      <th>sponsor_ids</th>\n",
       "      <th>sponsors</th>\n",
       "      <th>display_name</th>\n",
       "      <th>pollster_rating_id</th>\n",
       "      <th>...</th>\n",
       "      <th>nationwide_batch</th>\n",
       "      <th>created_at</th>\n",
       "      <th>notes</th>\n",
       "      <th>url</th>\n",
       "      <th>stage</th>\n",
       "      <th>party</th>\n",
       "      <th>answer</th>\n",
       "      <th>candidate_id</th>\n",
       "      <th>candidate_name</th>\n",
       "      <th>pct</th>\n",
       "    </tr>\n",
       "  </thead>\n",
       "  <tbody>\n",
       "    <tr>\n",
       "      <th>0</th>\n",
       "      <td>119292</td>\n",
       "      <td>64627</td>\n",
       "      <td>2020</td>\n",
       "      <td>California</td>\n",
       "      <td>1539</td>\n",
       "      <td>Point Blank Political</td>\n",
       "      <td>NaN</td>\n",
       "      <td>NaN</td>\n",
       "      <td>Point Blank Political</td>\n",
       "      <td>550.0</td>\n",
       "      <td>...</td>\n",
       "      <td>False</td>\n",
       "      <td>2/29/20 09:28</td>\n",
       "      <td>NaN</td>\n",
       "      <td>https://www.pointblankpolitical.com/2020-ca-de...</td>\n",
       "      <td>primary</td>\n",
       "      <td>DEM</td>\n",
       "      <td>Sanders</td>\n",
       "      <td>13257</td>\n",
       "      <td>Bernard Sanders</td>\n",
       "      <td>34.1</td>\n",
       "    </tr>\n",
       "    <tr>\n",
       "      <th>1</th>\n",
       "      <td>119292</td>\n",
       "      <td>64627</td>\n",
       "      <td>2020</td>\n",
       "      <td>California</td>\n",
       "      <td>1539</td>\n",
       "      <td>Point Blank Political</td>\n",
       "      <td>NaN</td>\n",
       "      <td>NaN</td>\n",
       "      <td>Point Blank Political</td>\n",
       "      <td>550.0</td>\n",
       "      <td>...</td>\n",
       "      <td>False</td>\n",
       "      <td>2/29/20 09:28</td>\n",
       "      <td>NaN</td>\n",
       "      <td>https://www.pointblankpolitical.com/2020-ca-de...</td>\n",
       "      <td>primary</td>\n",
       "      <td>DEM</td>\n",
       "      <td>Warren</td>\n",
       "      <td>13258</td>\n",
       "      <td>Elizabeth Warren</td>\n",
       "      <td>14.0</td>\n",
       "    </tr>\n",
       "    <tr>\n",
       "      <th>2</th>\n",
       "      <td>119292</td>\n",
       "      <td>64627</td>\n",
       "      <td>2020</td>\n",
       "      <td>California</td>\n",
       "      <td>1539</td>\n",
       "      <td>Point Blank Political</td>\n",
       "      <td>NaN</td>\n",
       "      <td>NaN</td>\n",
       "      <td>Point Blank Political</td>\n",
       "      <td>550.0</td>\n",
       "      <td>...</td>\n",
       "      <td>False</td>\n",
       "      <td>2/29/20 09:28</td>\n",
       "      <td>NaN</td>\n",
       "      <td>https://www.pointblankpolitical.com/2020-ca-de...</td>\n",
       "      <td>primary</td>\n",
       "      <td>DEM</td>\n",
       "      <td>Biden</td>\n",
       "      <td>13256</td>\n",
       "      <td>Joseph R. Biden Jr.</td>\n",
       "      <td>14.0</td>\n",
       "    </tr>\n",
       "    <tr>\n",
       "      <th>3</th>\n",
       "      <td>119292</td>\n",
       "      <td>64627</td>\n",
       "      <td>2020</td>\n",
       "      <td>California</td>\n",
       "      <td>1539</td>\n",
       "      <td>Point Blank Political</td>\n",
       "      <td>NaN</td>\n",
       "      <td>NaN</td>\n",
       "      <td>Point Blank Political</td>\n",
       "      <td>550.0</td>\n",
       "      <td>...</td>\n",
       "      <td>False</td>\n",
       "      <td>2/29/20 09:28</td>\n",
       "      <td>NaN</td>\n",
       "      <td>https://www.pointblankpolitical.com/2020-ca-de...</td>\n",
       "      <td>primary</td>\n",
       "      <td>DEM</td>\n",
       "      <td>Bloomberg</td>\n",
       "      <td>13289</td>\n",
       "      <td>Michael Bloomberg</td>\n",
       "      <td>11.7</td>\n",
       "    </tr>\n",
       "    <tr>\n",
       "      <th>4</th>\n",
       "      <td>119292</td>\n",
       "      <td>64627</td>\n",
       "      <td>2020</td>\n",
       "      <td>California</td>\n",
       "      <td>1539</td>\n",
       "      <td>Point Blank Political</td>\n",
       "      <td>NaN</td>\n",
       "      <td>NaN</td>\n",
       "      <td>Point Blank Political</td>\n",
       "      <td>550.0</td>\n",
       "      <td>...</td>\n",
       "      <td>False</td>\n",
       "      <td>2/29/20 09:28</td>\n",
       "      <td>NaN</td>\n",
       "      <td>https://www.pointblankpolitical.com/2020-ca-de...</td>\n",
       "      <td>primary</td>\n",
       "      <td>DEM</td>\n",
       "      <td>Buttigieg</td>\n",
       "      <td>13345</td>\n",
       "      <td>Pete Buttigieg</td>\n",
       "      <td>8.8</td>\n",
       "    </tr>\n",
       "  </tbody>\n",
       "</table>\n",
       "<p>5 rows × 33 columns</p>\n",
       "</div>"
      ],
      "text/plain": [
       "   question_id  poll_id  cycle       state  pollster_id  \\\n",
       "0       119292    64627   2020  California         1539   \n",
       "1       119292    64627   2020  California         1539   \n",
       "2       119292    64627   2020  California         1539   \n",
       "3       119292    64627   2020  California         1539   \n",
       "4       119292    64627   2020  California         1539   \n",
       "\n",
       "                pollster sponsor_ids sponsors           display_name  \\\n",
       "0  Point Blank Political         NaN      NaN  Point Blank Political   \n",
       "1  Point Blank Political         NaN      NaN  Point Blank Political   \n",
       "2  Point Blank Political         NaN      NaN  Point Blank Political   \n",
       "3  Point Blank Political         NaN      NaN  Point Blank Political   \n",
       "4  Point Blank Political         NaN      NaN  Point Blank Political   \n",
       "\n",
       "   pollster_rating_id  ... nationwide_batch     created_at  notes  \\\n",
       "0               550.0  ...            False  2/29/20 09:28    NaN   \n",
       "1               550.0  ...            False  2/29/20 09:28    NaN   \n",
       "2               550.0  ...            False  2/29/20 09:28    NaN   \n",
       "3               550.0  ...            False  2/29/20 09:28    NaN   \n",
       "4               550.0  ...            False  2/29/20 09:28    NaN   \n",
       "\n",
       "                                                 url    stage party  \\\n",
       "0  https://www.pointblankpolitical.com/2020-ca-de...  primary   DEM   \n",
       "1  https://www.pointblankpolitical.com/2020-ca-de...  primary   DEM   \n",
       "2  https://www.pointblankpolitical.com/2020-ca-de...  primary   DEM   \n",
       "3  https://www.pointblankpolitical.com/2020-ca-de...  primary   DEM   \n",
       "4  https://www.pointblankpolitical.com/2020-ca-de...  primary   DEM   \n",
       "\n",
       "      answer candidate_id       candidate_name   pct  \n",
       "0    Sanders        13257      Bernard Sanders  34.1  \n",
       "1     Warren        13258     Elizabeth Warren  14.0  \n",
       "2      Biden        13256  Joseph R. Biden Jr.  14.0  \n",
       "3  Bloomberg        13289    Michael Bloomberg  11.7  \n",
       "4  Buttigieg        13345       Pete Buttigieg   8.8  \n",
       "\n",
       "[5 rows x 33 columns]"
      ]
     },
     "execution_count": 2,
     "metadata": {},
     "output_type": "execute_result"
    }
   ],
   "source": [
    "california_primary_df = primary_df[primary_df.state == \"California\"]\n",
    "california_primary_df.head()"
   ]
  },
  {
   "cell_type": "code",
   "execution_count": 3,
   "metadata": {},
   "outputs": [],
   "source": [
    "bernie = california_primary_df[california_primary_df.candidate_id == 13257]\n",
    "bernie = bernie[bernie.notes != \"head-to-head poll\"]\n",
    "biden = california_primary_df[california_primary_df.candidate_id == 13256]\n",
    "biden = biden[biden.notes != \"head-to-head poll\"]"
   ]
  },
  {
   "cell_type": "markdown",
   "metadata": {},
   "source": [
    "Remove head-to-head polling results because they skew the numbers higher because there are only two candidates"
   ]
  },
  {
   "cell_type": "code",
   "execution_count": 4,
   "metadata": {},
   "outputs": [
    {
     "data": {
      "text/html": [
       "<div>\n",
       "<style scoped>\n",
       "    .dataframe tbody tr th:only-of-type {\n",
       "        vertical-align: middle;\n",
       "    }\n",
       "\n",
       "    .dataframe tbody tr th {\n",
       "        vertical-align: top;\n",
       "    }\n",
       "\n",
       "    .dataframe thead th {\n",
       "        text-align: right;\n",
       "    }\n",
       "</style>\n",
       "<table border=\"1\" class=\"dataframe\">\n",
       "  <thead>\n",
       "    <tr style=\"text-align: right;\">\n",
       "      <th></th>\n",
       "      <th>poll_id</th>\n",
       "      <th>question_id</th>\n",
       "      <th>cycle</th>\n",
       "      <th>state</th>\n",
       "      <th>pollster_id</th>\n",
       "      <th>pollster</th>\n",
       "      <th>sponsor_ids</th>\n",
       "      <th>sponsors</th>\n",
       "      <th>display_name</th>\n",
       "      <th>pollster_rating_id</th>\n",
       "      <th>...</th>\n",
       "      <th>created_at</th>\n",
       "      <th>notes</th>\n",
       "      <th>url</th>\n",
       "      <th>stage</th>\n",
       "      <th>party</th>\n",
       "      <th>answer</th>\n",
       "      <th>candidate_id</th>\n",
       "      <th>candidate_name</th>\n",
       "      <th>pct</th>\n",
       "      <th>time</th>\n",
       "    </tr>\n",
       "  </thead>\n",
       "  <tbody>\n",
       "    <tr>\n",
       "      <th>0</th>\n",
       "      <td>64627</td>\n",
       "      <td>119292</td>\n",
       "      <td>2020</td>\n",
       "      <td>California</td>\n",
       "      <td>1539</td>\n",
       "      <td>Point Blank Political</td>\n",
       "      <td>NaN</td>\n",
       "      <td>NaN</td>\n",
       "      <td>Point Blank Political</td>\n",
       "      <td>550.0</td>\n",
       "      <td>...</td>\n",
       "      <td>2/29/20 09:28</td>\n",
       "      <td>NaN</td>\n",
       "      <td>https://www.pointblankpolitical.com/2020-ca-de...</td>\n",
       "      <td>primary</td>\n",
       "      <td>DEM</td>\n",
       "      <td>Sanders</td>\n",
       "      <td>13257</td>\n",
       "      <td>Bernard Sanders</td>\n",
       "      <td>34.1</td>\n",
       "      <td>50</td>\n",
       "    </tr>\n",
       "    <tr>\n",
       "      <th>1</th>\n",
       "      <td>64614</td>\n",
       "      <td>119207</td>\n",
       "      <td>2020</td>\n",
       "      <td>California</td>\n",
       "      <td>1361</td>\n",
       "      <td>SSRS</td>\n",
       "      <td>143</td>\n",
       "      <td>CNN</td>\n",
       "      <td>CNN/SSRS</td>\n",
       "      <td>297.0</td>\n",
       "      <td>...</td>\n",
       "      <td>2/28/20 12:13</td>\n",
       "      <td>NaN</td>\n",
       "      <td>https://cdn.cnn.com/cnn/2020/images/02/28/rel1...</td>\n",
       "      <td>primary</td>\n",
       "      <td>DEM</td>\n",
       "      <td>Sanders</td>\n",
       "      <td>13257</td>\n",
       "      <td>Bernard Sanders</td>\n",
       "      <td>35.0</td>\n",
       "      <td>49</td>\n",
       "    </tr>\n",
       "    <tr>\n",
       "      <th>2</th>\n",
       "      <td>64533</td>\n",
       "      <td>118942</td>\n",
       "      <td>2020</td>\n",
       "      <td>California</td>\n",
       "      <td>1539</td>\n",
       "      <td>Point Blank Political</td>\n",
       "      <td>NaN</td>\n",
       "      <td>NaN</td>\n",
       "      <td>Point Blank Political</td>\n",
       "      <td>550.0</td>\n",
       "      <td>...</td>\n",
       "      <td>2/26/20 09:41</td>\n",
       "      <td>NaN</td>\n",
       "      <td>https://www.pointblankpolitical.com/2020-ca-de...</td>\n",
       "      <td>primary</td>\n",
       "      <td>DEM</td>\n",
       "      <td>Sanders</td>\n",
       "      <td>13257</td>\n",
       "      <td>Bernard Sanders</td>\n",
       "      <td>33.6</td>\n",
       "      <td>48</td>\n",
       "    </tr>\n",
       "    <tr>\n",
       "      <th>3</th>\n",
       "      <td>64595</td>\n",
       "      <td>119181</td>\n",
       "      <td>2020</td>\n",
       "      <td>California</td>\n",
       "      <td>1363</td>\n",
       "      <td>University of California, Berkeley</td>\n",
       "      <td>300</td>\n",
       "      <td>LA Times</td>\n",
       "      <td>University of California, Berkeley</td>\n",
       "      <td>457.0</td>\n",
       "      <td>...</td>\n",
       "      <td>2/28/20 05:04</td>\n",
       "      <td>NaN</td>\n",
       "      <td>https://escholarship.org/uc/item/40m769v7</td>\n",
       "      <td>primary</td>\n",
       "      <td>DEM</td>\n",
       "      <td>Sanders</td>\n",
       "      <td>13257</td>\n",
       "      <td>Bernard Sanders</td>\n",
       "      <td>33.7</td>\n",
       "      <td>47</td>\n",
       "    </tr>\n",
       "    <tr>\n",
       "      <th>4</th>\n",
       "      <td>64529</td>\n",
       "      <td>118924</td>\n",
       "      <td>2020</td>\n",
       "      <td>California</td>\n",
       "      <td>1365</td>\n",
       "      <td>Change Research</td>\n",
       "      <td>1186</td>\n",
       "      <td>KQED</td>\n",
       "      <td>Change Research</td>\n",
       "      <td>48.0</td>\n",
       "      <td>...</td>\n",
       "      <td>2/26/20 07:28</td>\n",
       "      <td>NaN</td>\n",
       "      <td>https://www.changeresearch.com/post/democratic...</td>\n",
       "      <td>primary</td>\n",
       "      <td>DEM</td>\n",
       "      <td>Sanders</td>\n",
       "      <td>13257</td>\n",
       "      <td>Bernard Sanders</td>\n",
       "      <td>37.0</td>\n",
       "      <td>46</td>\n",
       "    </tr>\n",
       "  </tbody>\n",
       "</table>\n",
       "<p>5 rows × 34 columns</p>\n",
       "</div>"
      ],
      "text/plain": [
       "   poll_id  question_id  cycle       state  pollster_id  \\\n",
       "0    64627       119292   2020  California         1539   \n",
       "1    64614       119207   2020  California         1361   \n",
       "2    64533       118942   2020  California         1539   \n",
       "3    64595       119181   2020  California         1363   \n",
       "4    64529       118924   2020  California         1365   \n",
       "\n",
       "                             pollster sponsor_ids  sponsors  \\\n",
       "0               Point Blank Political         NaN       NaN   \n",
       "1                                SSRS         143       CNN   \n",
       "2               Point Blank Political         NaN       NaN   \n",
       "3  University of California, Berkeley         300  LA Times   \n",
       "4                     Change Research        1186      KQED   \n",
       "\n",
       "                         display_name  pollster_rating_id  ...     created_at  \\\n",
       "0               Point Blank Political               550.0  ...  2/29/20 09:28   \n",
       "1                            CNN/SSRS               297.0  ...  2/28/20 12:13   \n",
       "2               Point Blank Political               550.0  ...  2/26/20 09:41   \n",
       "3  University of California, Berkeley               457.0  ...  2/28/20 05:04   \n",
       "4                     Change Research                48.0  ...  2/26/20 07:28   \n",
       "\n",
       "  notes                                                url    stage party  \\\n",
       "0   NaN  https://www.pointblankpolitical.com/2020-ca-de...  primary   DEM   \n",
       "1   NaN  https://cdn.cnn.com/cnn/2020/images/02/28/rel1...  primary   DEM   \n",
       "2   NaN  https://www.pointblankpolitical.com/2020-ca-de...  primary   DEM   \n",
       "3   NaN          https://escholarship.org/uc/item/40m769v7  primary   DEM   \n",
       "4   NaN  https://www.changeresearch.com/post/democratic...  primary   DEM   \n",
       "\n",
       "    answer candidate_id   candidate_name   pct time  \n",
       "0  Sanders        13257  Bernard Sanders  34.1   50  \n",
       "1  Sanders        13257  Bernard Sanders  35.0   49  \n",
       "2  Sanders        13257  Bernard Sanders  33.6   48  \n",
       "3  Sanders        13257  Bernard Sanders  33.7   47  \n",
       "4  Sanders        13257  Bernard Sanders  37.0   46  \n",
       "\n",
       "[5 rows x 34 columns]"
      ]
     },
     "execution_count": 4,
     "metadata": {},
     "output_type": "execute_result"
    }
   ],
   "source": [
    "df=bernie.set_index('poll_id')\n",
    "time = np.arange(len(df))\n",
    "time = np.flip(time,0)\n",
    "df['time'] = time\n",
    "df.reset_index(inplace = True)\n",
    "df.head()"
   ]
  },
  {
   "cell_type": "code",
   "execution_count": 5,
   "metadata": {},
   "outputs": [
    {
     "data": {
      "text/plain": [
       "<matplotlib.axes._subplots.AxesSubplot at 0x7f221d6bfe48>"
      ]
     },
     "execution_count": 5,
     "metadata": {},
     "output_type": "execute_result"
    },
    {
     "data": {
      "image/png": "[encoded data removed]",
      "text/plain": [
       "<Figure size 432x288 with 1 Axes>"
      ]
     },
     "metadata": {
      "needs_background": "light"
     },
     "output_type": "display_data"
    }
   ],
   "source": [
    "df.plot(kind='scatter', x='time', y='pct')"
   ]
  },
  {
   "cell_type": "markdown",
   "metadata": {},
   "source": [
    "The scatter plot shows a level support base in the beginning, but starting around 35, which corresponds to the end of December/begining of January there is a rise in support for Bernie. This corresponds to the increased presence of the Cornonavirus in the U.S."
   ]
  },
  {
   "cell_type": "code",
   "execution_count": 6,
   "metadata": {},
   "outputs": [
    {
     "data": {
      "text/plain": [
       "<matplotlib.axes._subplots.AxesSubplot at 0x7f221aceba90>"
      ]
     },
     "execution_count": 6,
     "metadata": {},
     "output_type": "execute_result"
    },
    {
     "data": {
      "image/png": "[encoded data removed]",
      "text/plain": [
       "<Figure size 432x288 with 1 Axes>"
      ]
     },
     "metadata": {
      "needs_background": "light"
     },
     "output_type": "display_data"
    }
   ],
   "source": [
    "df_train = df.loc[7:].copy()\n",
    "df_test = df.loc[:6].copy()\n",
    "\n",
    "X_train = df_train[[\"time\"]]\n",
    "X_test = df_test[[\"time\"]]\n",
    "y_train = df_train[\"pct\"]\n",
    "\n",
    "model = LinearRegression()\n",
    "model.fit(X=X_train, y=y_train)\n",
    "model.predict(X=X_test)\n",
    "\n",
    "X_new = pd.DataFrame()\n",
    "# create a sequence of 200 evenly spaced numbers from 0 to 50\n",
    "X_new[\"time\"] = np.linspace(0, 50, num=200)\n",
    "\n",
    "# create a Series out of the predicted values\n",
    "# (trailing underscore indicates fitted values)\n",
    "y_new_ = pd.Series(\n",
    "    model.predict(X_new), # y values in Series.plot.line()\n",
    "    index=X_new[\"time\"]    # x values in Series.plot.line()\n",
    ")\n",
    "\n",
    "# plot the data, then the model\n",
    "df_train.plot.scatter(x=\"time\", y=\"pct\")\n",
    "y_new_.plot.line()"
   ]
  },
  {
   "cell_type": "code",
   "execution_count": 7,
   "metadata": {},
   "outputs": [
    {
     "data": {
      "text/plain": [
       "array([0.19105004])"
      ]
     },
     "execution_count": 7,
     "metadata": {},
     "output_type": "execute_result"
    }
   ],
   "source": [
    "model.coef_"
   ]
  },
  {
   "cell_type": "markdown",
   "metadata": {},
   "source": [
    "An overall positive trend in support for Bernie Sanders"
   ]
  },
  {
   "cell_type": "code",
   "execution_count": 8,
   "metadata": {},
   "outputs": [
    {
     "data": {
      "text/plain": [
       "<matplotlib.axes._subplots.AxesSubplot at 0x7f221ac6e908>"
      ]
     },
     "execution_count": 8,
     "metadata": {},
     "output_type": "execute_result"
    },
    {
     "data": {
      "image/png": "[encoded data removed]",
      "text/plain": [
       "<Figure size 432x288 with 1 Axes>"
      ]
     },
     "metadata": {
      "needs_background": "light"
     },
     "output_type": "display_data"
    }
   ],
   "source": [
    "df=biden.set_index('poll_id')\n",
    "time = np.arange(len(df))\n",
    "time = np.flip(time,0)\n",
    "df['time'] = time\n",
    "df.reset_index(inplace = True)\n",
    "\n",
    "df.plot(kind='scatter', x='time', y='pct')"
   ]
  },
  {
   "cell_type": "markdown",
   "metadata": {},
   "source": [
    "The scatter plot shows a level support base in the beginning, but starting around 35, which corresponds to the end of December/begining of January there is a drop in support for Biden. This corresponds to the increased presence of the Cornonavirus in the U.S."
   ]
  },
  {
   "cell_type": "code",
   "execution_count": 9,
   "metadata": {},
   "outputs": [
    {
     "data": {
      "text/plain": [
       "<matplotlib.axes._subplots.AxesSubplot at 0x7f221abd0c18>"
      ]
     },
     "execution_count": 9,
     "metadata": {},
     "output_type": "execute_result"
    },
    {
     "data": {
      "image/png": "[encoded data removed]",
      "text/plain": [
       "<Figure size 432x288 with 1 Axes>"
      ]
     },
     "metadata": {
      "needs_background": "light"
     },
     "output_type": "display_data"
    }
   ],
   "source": [
    "df_train = df.loc[7:].copy()\n",
    "df_test = df.loc[:6].copy()\n",
    "\n",
    "X_train = df_train[[\"time\"]]\n",
    "X_test = df_test[[\"time\"]]\n",
    "y_train = df_train[\"pct\"]\n",
    "\n",
    "model = LinearRegression()\n",
    "model.fit(X=X_train, y=y_train)\n",
    "model.predict(X=X_test)\n",
    "\n",
    "X_new = pd.DataFrame()\n",
    "# create a sequence of 200 evenly spaced numbers from 0 to 50\n",
    "X_new[\"time\"] = np.linspace(0, 50, num=200)\n",
    "\n",
    "# create a Series out of the predicted values\n",
    "# (trailing underscore indicates fitted values)\n",
    "y_new_ = pd.Series(\n",
    "    model.predict(X_new), # y values in Series.plot.line()\n",
    "    index=X_new[\"time\"]    # x values in Series.plot.line()\n",
    ")\n",
    "\n",
    "# plot the data, then the model\n",
    "df_train.plot.scatter(x=\"time\", y=\"pct\")\n",
    "y_new_.plot.line()"
   ]
  },
  {
   "cell_type": "code",
   "execution_count": 10,
   "metadata": {},
   "outputs": [
    {
     "data": {
      "text/plain": [
       "array([-0.13696768])"
      ]
     },
     "execution_count": 10,
     "metadata": {},
     "output_type": "execute_result"
    }
   ],
   "source": [
    "model.coef_"
   ]
  },
  {
   "cell_type": "markdown",
   "metadata": {},
   "source": [
    "An overall negative trend in support for Joe Bidden"
   ]
  },
  {
   "cell_type": "markdown",
   "metadata": {},
   "source": [
    "# Conclusion in California\n",
    "In California there is a noticable rise in support for Bernie, and drop in support for Biden. The time of this change corresponds to the beginning of the coronavirus in the U.S. and the candidates favor for universal healthcare could be why there is such a rise in support for Bernie Sanders and drop for Joe Biden"
   ]
  },
  {
   "cell_type": "markdown",
   "metadata": {},
   "source": [
    "# Entire US Survey\n",
    "Did the appearance of Coronavirus affect the support for the candidates in the U.S. as a whole?"
   ]
  },
  {
   "cell_type": "code",
   "execution_count": 11,
   "metadata": {},
   "outputs": [],
   "source": [
    "bernie = primary_df[primary_df.candidate_id == 13257]\n",
    "bernie = bernie[bernie.notes != \"head-to-head poll\"]\n",
    "biden = primary_df[primary_df.candidate_id == 13256]\n",
    "biden = biden[biden.notes != \"head-to-head poll\"]"
   ]
  },
  {
   "cell_type": "code",
   "execution_count": 12,
   "metadata": {},
   "outputs": [
    {
     "data": {
      "text/plain": [
       "<matplotlib.axes._subplots.AxesSubplot at 0x7f221ac66a20>"
      ]
     },
     "execution_count": 12,
     "metadata": {},
     "output_type": "execute_result"
    },
    {
     "data": {
      "image/png": "[encoded data removed]",
      "text/plain": [
       "<Figure size 432x288 with 1 Axes>"
      ]
     },
     "metadata": {
      "needs_background": "light"
     },
     "output_type": "display_data"
    }
   ],
   "source": [
    "df=bernie.set_index('poll_id')\n",
    "time = np.arange(len(df))\n",
    "time = np.flip(time,0)\n",
    "df['time'] = time\n",
    "df.reset_index(inplace = True)\n",
    "df.plot(kind='scatter', x='time', y='pct')"
   ]
  },
  {
   "cell_type": "markdown",
   "metadata": {},
   "source": [
    "Even in the U.S. there is a rise in support for Bernie Sanders near the onset of the corona virus in the states. The trend in California seems to be across the entire U.S."
   ]
  },
  {
   "cell_type": "code",
   "execution_count": 13,
   "metadata": {},
   "outputs": [
    {
     "data": {
      "text/plain": [
       "<matplotlib.axes._subplots.AxesSubplot at 0x7f221abe1320>"
      ]
     },
     "execution_count": 13,
     "metadata": {},
     "output_type": "execute_result"
    },
    {
     "data": {
      "image/png": "[encoded data removed]",
      "text/plain": [
       "<Figure size 432x288 with 1 Axes>"
      ]
     },
     "metadata": {
      "needs_background": "light"
     },
     "output_type": "display_data"
    }
   ],
   "source": [
    "df=biden.set_index('poll_id')\n",
    "time = np.arange(len(df))\n",
    "time = np.flip(time,0)\n",
    "df['time'] = time\n",
    "df.reset_index(inplace = True)\n",
    "df.plot(kind='scatter', x='time', y='pct')"
   ]
  },
  {
   "cell_type": "markdown",
   "metadata": {},
   "source": [
    "Similarly like in California, there is a drop in Biden support in later polls once the coronavirus is starting to infect more and more people in the U.S."
   ]
  },
  {
   "cell_type": "markdown",
   "metadata": {},
   "source": [
    "# Conclusion for U.S."
   ]
  },
  {
   "cell_type": "markdown",
   "metadata": {},
   "source": [
    "Like in California, the entire U.S. shared the increase in support for Bernie and decline in support for Biden. This correlates to the arrival of the coronavirus in the U.S. at the beginning of January and may be caused by Bernie's policy of universal healthcare, because if people cannot even get tested for the virus they may be seeing cracks in the healthcare system we have today."
   ]
  },
  {
   "cell_type": "code",
   "execution_count": null,
   "metadata": {},
   "outputs": [],
   "source": []
  }
 ],
 "metadata": {
  "kernelspec": {
   "display_name": "Python 3",
   "language": "python",
   "name": "python3"
  },
  "language_info": {
   "codemirror_mode": {
    "name": "ipython",
    "version": 3
   },
   "file_extension": ".py",
   "mimetype": "text/x-python",
   "name": "python",
   "nbconvert_exporter": "python",
   "pygments_lexer": "ipython3",
   "version": "3.6.8"
  }
 },
 "nbformat": 4,
 "nbformat_minor": 4
}
